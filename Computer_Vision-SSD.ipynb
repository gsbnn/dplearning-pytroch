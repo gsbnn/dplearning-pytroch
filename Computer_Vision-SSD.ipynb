{
 "cells": [
  {
   "cell_type": "markdown",
   "id": "9480f644",
   "metadata": {},
   "source": [
    "# 单发多框检测（SSD）"
   ]
  },
  {
   "cell_type": "markdown",
   "id": "c557564c",
   "metadata": {},
   "source": [
    "### 1. 目标检测数据集\n",
    "\n",
    "为了快速测试目标检测模型，我们收集并标记了一个小型数据集。首先，我们拍摄了一组香蕉的照片，并生成了1000张不同角度和大小的香蕉图像。然后，我们在一些背景图片的随机位置上放一张香蕉的图像。最后，我们在图片上为这些香蕉标记了边界框。"
   ]
  },
  {
   "cell_type": "code",
   "execution_count": 1,
   "id": "3eaa1e82",
   "metadata": {},
   "outputs": [],
   "source": [
    "%matplotlib inline\n",
    "import os\n",
    "import pandas as pd\n",
    "import torch\n",
    "import torchvision\n",
    "from d2l import torch as d2l"
   ]
  },
  {
   "cell_type": "code",
   "execution_count": 2,
   "id": "a494ca0d",
   "metadata": {},
   "outputs": [],
   "source": [
    "d2l.DATA_HUB['banana-detection'] = (\n",
    "    d2l.DATA_URL + 'banana-detection.zip',\n",
    "    '5de26c8fce5ccdea9f91267273464dc968d20d72')"
   ]
  },
  {
   "cell_type": "markdown",
   "id": "fdc59406",
   "metadata": {},
   "source": [
    "通过read_data_bananas函数，我们读取香蕉检测数据集。该数据集包括一个的CSV文件，内含目标类别标签和位于左上角和右下角的真实边界框坐标。"
   ]
  },
  {
   "cell_type": "code",
   "execution_count": null,
   "id": "af8609b3",
   "metadata": {},
   "outputs": [],
   "source": [
    "def read_data_bananas(is_train=True):\n",
    "    \"\"\"读取香蕉检测数据集中的图像和标签\"\"\"\n",
    "    data_dir = d2l.download_extract('banana-detection')\n",
    "    csv_fname = os.path.join(data_dir, 'bananas_train' if is_train else 'bananas_val', \n",
    "                             'label_csv')\n",
    "    print(csv_fname)\n",
    "    csv_data = pd.read_csv(csv_fname)\n",
    "    csv_data = csv_data.set_index"
   ]
  }
 ],
 "metadata": {
  "kernelspec": {
   "display_name": ".venv",
   "language": "python",
   "name": "python3"
  },
  "language_info": {
   "codemirror_mode": {
    "name": "ipython",
    "version": 3
   },
   "file_extension": ".py",
   "mimetype": "text/x-python",
   "name": "python",
   "nbconvert_exporter": "python",
   "pygments_lexer": "ipython3",
   "version": "3.11.8"
  }
 },
 "nbformat": 4,
 "nbformat_minor": 5
}
