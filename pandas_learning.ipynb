{
 "cells": [
  {
   "cell_type": "markdown",
   "metadata": {},
   "source": [
    "两种变量：DataFrame, Series，二者的区别是DataFrame有行(index)和列(name/labels)名，Series只有行名。当不指定行和列名时，自动添加默认值。  "
   ]
  },
  {
   "cell_type": "code",
   "execution_count": null,
   "metadata": {},
   "outputs": [
    {
     "name": "stdout",
     "output_type": "stream",
     "text": [
      "   0\n",
      "0  1\n",
      "1  2\n",
      "2  3\n",
      "3  4\n",
      "0    a\n",
      "1    b\n",
      "dtype: object\n"
     ]
    }
   ],
   "source": [
    "import pandas as pd\n",
    "\n",
    "data = pd.DataFrame([1, 2, 3, 4])\n",
    "print(data)\n",
    "s1 = pd.Series(['a', 'b'])\n",
    "print(s1)"
   ]
  },
  {
   "cell_type": "markdown",
   "metadata": {},
   "source": [
    "pandas.read_csv():  \n",
    "参数header：指定对应行作为列名，如header=0表示将第一行作为列名  \n",
    "参数name：自定义列名  \n",
    "name=None, header=None时使用默认列名"
   ]
  },
  {
   "cell_type": "code",
   "execution_count": 12,
   "metadata": {},
   "outputs": [
    {
     "data": {
      "text/plain": [
       "(          0         1       2\n",
       " 0  NumRooms  RoofType   Price\n",
       " 1       NaN       NaN  127500\n",
       " 2         2       NaN  106000\n",
       " 3         4     Slate  178100\n",
       " 4       NaN       NaN  140000\n",
       " 5       NaN       NaN  127500\n",
       " 6         2       NaN  106000\n",
       " 7         4     Slate  178100\n",
       " 8       NaN       NaN  140000,\n",
       "    NumRooms RoofType   Price\n",
       " 0       NaN      NaN  127500\n",
       " 1       2.0      NaN  106000\n",
       " 2       4.0    Slate  178100\n",
       " 3       NaN      NaN  140000\n",
       " 4       NaN      NaN  127500\n",
       " 5       2.0      NaN  106000\n",
       " 6       4.0    Slate  178100\n",
       " 7       NaN      NaN  140000,\n",
       "    NumRooms RoofType   Price\n",
       " 0       NaN      NaN  127500\n",
       " 1       2.0      NaN  106000\n",
       " 2       4.0    Slate  178100\n",
       " 3       NaN      NaN  140000\n",
       " 4       NaN      NaN  127500\n",
       " 5       2.0      NaN  106000\n",
       " 6       4.0    Slate  178100\n",
       " 7       NaN      NaN  140000)"
      ]
     },
     "execution_count": 12,
     "metadata": {},
     "output_type": "execute_result"
    }
   ],
   "source": [
    "data2 = pd.read_csv('exercise_data.csv', header=None)\n",
    "data3 = pd.read_csv('exercise_data.csv', header=0)\n",
    "data4 = pd.read_csv('exercise_data.csv')\n",
    "data2, data3, data4"
   ]
  },
  {
   "cell_type": "markdown",
   "metadata": {},
   "source": [
    "pandas.concat()：  \n",
    "参数objs： a sequence or mapping of Series or DataFrame objects  \n",
    "参数ignore_index：If True, do not use the index values along the concatenation axis. The resulting axis will be labeled 0, …, n - 1  "
   ]
  },
  {
   "cell_type": "code",
   "execution_count": 13,
   "metadata": {},
   "outputs": [
    {
     "name": "stdout",
     "output_type": "stream",
     "text": [
      "0    a\n",
      "1    b\n",
      "0    c\n",
      "1    d\n",
      "dtype: object\n",
      "0    a\n",
      "1    b\n",
      "2    c\n",
      "3    d\n",
      "dtype: object\n"
     ]
    }
   ],
   "source": [
    "s2 = pd.Series(['c', 'd'])\n",
    "print(pd.concat([s1, s2]))\n",
    "print(pd.concat([s1, s2], ignore_index=True))"
   ]
  },
  {
   "cell_type": "markdown",
   "metadata": {},
   "source": [
    "pandas.DataFrame.to_excel：  \n",
    "参数columns：是否保留列名  \n",
    "参数index：是否保留行名  "
   ]
  },
  {
   "cell_type": "code",
   "execution_count": 17,
   "metadata": {},
   "outputs": [],
   "source": [
    "df1 = pd.DataFrame([['a', 'b'], ['c', 'd']],\n",
    "                    index=['row 1', 'row 2'],\n",
    "                    columns=['col 1', 'col 2'])\n",
    "df1.to_excel(\"output.xlsx\", index=False, header=False)"
   ]
  }
 ],
 "metadata": {
  "kernelspec": {
   "display_name": ".venv",
   "language": "python",
   "name": "python3"
  },
  "language_info": {
   "codemirror_mode": {
    "name": "ipython",
    "version": 3
   },
   "file_extension": ".py",
   "mimetype": "text/x-python",
   "name": "python",
   "nbconvert_exporter": "python",
   "pygments_lexer": "ipython3",
   "version": "3.11.8"
  }
 },
 "nbformat": 4,
 "nbformat_minor": 2
}
