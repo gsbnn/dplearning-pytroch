{
 "cells": [
  {
   "cell_type": "markdown",
   "id": "fe3a6465-bc40-4f0e-8667-492dd0d2cf8e",
   "metadata": {},
   "source": [
    "# 广播机制的充要条件    \n",
    "1. 两个张量进行维度比较，从右向左比较；  \n",
    "2. 两个张量同一纬度要么相等，要么其中一个为1（若维度缺失也看作维度是1）；  "
   ]
  },
  {
   "cell_type": "markdown",
   "id": "ba8d902d-390e-40a3-a009-6ba672180dd0",
   "metadata": {},
   "source": [
    "首先，创造一个`1*4*3`的矩阵x   "
   ]
  },
  {
   "cell_type": "code",
   "execution_count": 8,
   "id": "01dbf2a8-1122-4e7f-a8b9-031d6ab7e4df",
   "metadata": {},
   "outputs": [
    {
     "name": "stdout",
     "output_type": "stream",
     "text": [
      "tensor([[[ 0,  1,  2],\n",
      "         [ 3,  4,  5],\n",
      "         [ 6,  7,  8],\n",
      "         [ 9, 10, 11]]])\n"
     ]
    }
   ],
   "source": [
    "import torch\n",
    "x = torch.arange(12).reshape(1, 4, 3)\n",
    "print(x)"
   ]
  },
  {
   "cell_type": "markdown",
   "id": "83094f24-34ee-45e1-9067-2ceef52d52aa",
   "metadata": {},
   "source": [
    "其次，创造一个`2*2*1`的矩阵y"
   ]
  },
  {
   "cell_type": "code",
   "execution_count": 9,
   "id": "5db10a0c-42f0-427d-b932-b440181769d9",
   "metadata": {},
   "outputs": [
    {
     "name": "stdout",
     "output_type": "stream",
     "text": [
      "tensor([[[0, 1, 2]],\n",
      "\n",
      "        [[3, 4, 5]]])\n"
     ]
    }
   ],
   "source": [
    "y = torch.arange(6).reshape(2, 1, 3)\n",
    "print(y)"
   ]
  },
  {
   "cell_type": "markdown",
   "id": "66020d57-5941-4583-8afd-f195d8fa1a6c",
   "metadata": {},
   "source": [
    "利用广播机制进行X+Y操作，注意三个维度均向大的一方扩展，并且每一维都满足双方整倍数关系"
   ]
  },
  {
   "cell_type": "code",
   "execution_count": 10,
   "id": "b8728ca0-6ca4-489c-ad66-ad289d9c3d64",
   "metadata": {},
   "outputs": [
    {
     "name": "stdout",
     "output_type": "stream",
     "text": [
      "tensor([[[ 0,  2,  4],\n",
      "         [ 3,  5,  7],\n",
      "         [ 6,  8, 10],\n",
      "         [ 9, 11, 13]],\n",
      "\n",
      "        [[ 3,  5,  7],\n",
      "         [ 6,  8, 10],\n",
      "         [ 9, 11, 13],\n",
      "         [12, 14, 16]]])\n"
     ]
    }
   ],
   "source": [
    "print(x+y)"
   ]
  }
 ],
 "metadata": {
  "kernelspec": {
   "display_name": ".venv",
   "language": "python",
   "name": "python3"
  },
  "language_info": {
   "codemirror_mode": {
    "name": "ipython",
    "version": 3
   },
   "file_extension": ".py",
   "mimetype": "text/x-python",
   "name": "python",
   "nbconvert_exporter": "python",
   "pygments_lexer": "ipython3",
   "version": "3.11.8"
  }
 },
 "nbformat": 4,
 "nbformat_minor": 5
}
