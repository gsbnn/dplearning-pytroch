{
 "cells": [
  {
   "cell_type": "markdown",
   "metadata": {},
   "source": [
    "# 数据操作"
   ]
  },
  {
   "cell_type": "markdown",
   "metadata": {},
   "source": [
    "### 1. 创建data"
   ]
  },
  {
   "cell_type": "code",
   "execution_count": 10,
   "metadata": {},
   "outputs": [],
   "source": [
    "import os\n",
    "\n",
    "os.makedirs(os.path.join('..', 'data'), exist_ok=True) # 创建文件夹\n",
    "data_file = os.path.join('..', 'data', 'house_tiny.csv') # 创建文件，返回文件路径\n",
    "with open(data_file, 'w') as f:\n",
    "    f.write('NumRooms,RoofType,Price\\n') # 列名\n",
    "    f.write('NA,NA,127500\\n') # 每行表示一个数据样本\n",
    "    f.write('2,Conver,106000\\n')\n",
    "    f.write('4,Slate,178100\\n')\n",
    "    f.write('NA,NA,140000\\n')"
   ]
  },
  {
   "cell_type": "markdown",
   "metadata": {},
   "source": [
    "### 2. 读取data"
   ]
  },
  {
   "cell_type": "code",
   "execution_count": 11,
   "metadata": {},
   "outputs": [
    {
     "name": "stdout",
     "output_type": "stream",
     "text": [
      "   NumRooms RoofType   Price\n",
      "0       NaN      NaN  127500\n",
      "1       2.0   Conver  106000\n",
      "2       4.0    Slate  178100\n",
      "3       NaN      NaN  140000\n"
     ]
    }
   ],
   "source": [
    "import pandas as pd\n",
    "data = pd.read_csv(data_file)\n",
    "print(data)"
   ]
  },
  {
   "cell_type": "markdown",
   "metadata": {},
   "source": [
    "### 3. 处理缺失值——插值"
   ]
  },
  {
   "cell_type": "markdown",
   "metadata": {},
   "source": [
    "- 对分类指标进行处理——将其转换成0/1."
   ]
  },
  {
   "cell_type": "code",
   "execution_count": 12,
   "metadata": {},
   "outputs": [
    {
     "name": "stdout",
     "output_type": "stream",
     "text": [
      "   NumRooms RoofType\n",
      "0       NaN      NaN\n",
      "1       2.0   Conver\n",
      "2       4.0    Slate\n",
      "3       NaN      NaN\n",
      "   NumRooms  RoofType_Conver  RoofType_Slate  RoofType_nan\n",
      "0       NaN            False           False          True\n",
      "1       2.0             True           False         False\n",
      "2       4.0            False            True         False\n",
      "3       NaN            False           False          True\n"
     ]
    }
   ],
   "source": [
    "inputs, targets = data.iloc[:, 0:2], data.iloc[:,2]\n",
    "print(inputs)\n",
    "inputs = pd.get_dummies(inputs, dummy_na=True)\n",
    "print(inputs)"
   ]
  },
  {
   "cell_type": "markdown",
   "metadata": {},
   "source": [
    "- 对数值进行处理"
   ]
  },
  {
   "cell_type": "code",
   "execution_count": 14,
   "metadata": {},
   "outputs": [
    {
     "name": "stdout",
     "output_type": "stream",
     "text": [
      "   NumRooms  RoofType_Conver  RoofType_Slate  RoofType_nan\n",
      "0       3.0            False           False          True\n",
      "1       2.0             True           False         False\n",
      "2       4.0            False            True         False\n",
      "3       3.0            False           False          True\n"
     ]
    }
   ],
   "source": [
    "inputs = inputs.fillna(inputs.mean()) # 用该列的均值进行插值\n",
    "print(inputs)"
   ]
  },
  {
   "cell_type": "markdown",
   "metadata": {},
   "source": [
    "### 4. 将data转换成tensor"
   ]
  },
  {
   "cell_type": "code",
   "execution_count": 16,
   "metadata": {},
   "outputs": [
    {
     "name": "stdout",
     "output_type": "stream",
     "text": [
      "tensor([[3., 0., 0., 1.],\n",
      "        [2., 1., 0., 0.],\n",
      "        [4., 0., 1., 0.],\n",
      "        [3., 0., 0., 1.]], dtype=torch.float64) tensor([127500., 106000., 178100., 140000.], dtype=torch.float64)\n"
     ]
    }
   ],
   "source": [
    "import torch\n",
    "X = torch.tensor(inputs.to_numpy(dtype=float))\n",
    "y = torch.tensor(targets.to_numpy(dtype=float))\n",
    "print(X,y)"
   ]
  },
  {
   "cell_type": "markdown",
   "metadata": {},
   "source": [
    "### 5. 练习  \n",
    "创建包含更多行和列的原始数据集，删除缺失值最多的列。"
   ]
  },
  {
   "cell_type": "code",
   "execution_count": 28,
   "metadata": {},
   "outputs": [
    {
     "name": "stdout",
     "output_type": "stream",
     "text": [
      "   NumRooms RoofType   Price\n",
      "0       NaN      NaN  127500\n",
      "1       2.0      NaN  106000\n",
      "2       4.0    Slate  178100\n",
      "3       NaN      NaN  140000\n",
      "4       NaN      NaN  127500\n",
      "5       2.0      NaN  106000\n",
      "6       4.0    Slate  178100\n",
      "7       NaN      NaN  140000\n",
      "NumRooms    4\n",
      "RoofType    6\n",
      "Price       0\n",
      "dtype: int64\n",
      "   NumRooms   Price\n",
      "0       NaN  127500\n",
      "1       2.0  106000\n",
      "2       4.0  178100\n",
      "3       NaN  140000\n",
      "4       NaN  127500\n",
      "5       2.0  106000\n",
      "6       4.0  178100\n",
      "7       NaN  140000\n"
     ]
    }
   ],
   "source": [
    "\n",
    "def drop_col(data):\n",
    "    results = data.isna().sum() # 统计每列缺省值个数\n",
    "    print(results)\n",
    "    id_col = results.idxmax() # 获取缺失值最多的列名\n",
    "    return data.drop(columns=id_col) # 按列名删除\n",
    "\n",
    "# 上述过程可以描述为：data.drop(data.isna().sum().idxmax(), columns=id_col)\n",
    "\n",
    "mydata_file = os.path.join('E:\\Deep_Learning', 'exercise_data.csv')\n",
    "with open(mydata_file, 'w') as f:\n",
    "    f.write('NumRooms,RoofType,Price\\n') # 列名\n",
    "    f.write('NA,NA,127500\\n') # 每行表示一个数据样本\n",
    "    f.write('2,NA,106000\\n')\n",
    "    f.write('4,Slate,178100\\n')\n",
    "    f.write('NA,NA,140000\\n')\n",
    "    f.write('NA,NA,127500\\n')\n",
    "    f.write('2,NA,106000\\n')\n",
    "    f.write('4,Slate,178100\\n')\n",
    "    f.write('NA,NA,140000\\n')\n",
    "mydata = pd.read_csv(mydata_file)\n",
    "print(mydata)\n",
    "mydata = drop_col(mydata)\n",
    "print(mydata)"
   ]
  }
 ],
 "metadata": {
  "kernelspec": {
   "display_name": ".venv",
   "language": "python",
   "name": "python3"
  },
  "language_info": {
   "codemirror_mode": {
    "name": "ipython",
    "version": 3
   },
   "file_extension": ".py",
   "mimetype": "text/x-python",
   "name": "python",
   "nbconvert_exporter": "python",
   "pygments_lexer": "ipython3",
   "version": "3.11.8"
  }
 },
 "nbformat": 4,
 "nbformat_minor": 2
}
